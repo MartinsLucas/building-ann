{
 "cells": [
  {
   "cell_type": "code",
   "execution_count": null,
   "metadata": {},
   "outputs": [],
   "source": [
    "# Artificial Neural Network\n",
    "\n",
    "# Installing Theano\n",
    "# pip install --upgrade --no-deps git+git://github.com/Theano/Theano.git\n",
    "\n",
    "# Installing Tensorflow\n",
    "# pip install tensorflow\n",
    "\n",
    "# Installing Keras\n",
    "# pip install --upgrade keras\n",
    "\n",
    "# Part 1 - Data Preprocessing"
   ]
  },
  {
   "cell_type": "code",
   "execution_count": null,
   "metadata": {},
   "outputs": [],
   "source": [
    "!pip install -r requirements.txt"
   ]
  },
  {
   "cell_type": "code",
   "execution_count": 1,
   "metadata": {},
   "outputs": [],
   "source": [
    "# Importing the libraries\n",
    "import numpy as np\n",
    "import matplotlib.pyplot as plt\n",
    "import pandas as pd"
   ]
  },
  {
   "cell_type": "code",
   "execution_count": 2,
   "metadata": {},
   "outputs": [],
   "source": [
    "# Importing the dataset\n",
    "dataset = pd.read_csv('Churn_Modelling.csv')\n",
    "X = dataset.iloc[:, 3:13].values\n",
    "y = dataset.iloc[:, 13].values"
   ]
  },
  {
   "cell_type": "code",
   "execution_count": 3,
   "metadata": {},
   "outputs": [
    {
     "name": "stderr",
     "output_type": "stream",
     "text": [
      "/home/felipe/anaconda3/envs/dlenv/lib/python3.6/site-packages/sklearn/preprocessing/_encoders.py:371: FutureWarning: The handling of integer data will change in version 0.22. Currently, the categories are determined based on the range [0, max(values)], while in the future they will be determined based on the unique values.\n",
      "If you want the future behaviour and silence this warning, you can specify \"categories='auto'\".\n",
      "In case you used a LabelEncoder before this OneHotEncoder to convert the categories to integers, then you can now use the OneHotEncoder directly.\n",
      "  warnings.warn(msg, FutureWarning)\n",
      "/home/felipe/anaconda3/envs/dlenv/lib/python3.6/site-packages/sklearn/preprocessing/_encoders.py:392: DeprecationWarning: The 'categorical_features' keyword is deprecated in version 0.20 and will be removed in 0.22. You can use the ColumnTransformer instead.\n",
      "  \"use the ColumnTransformer instead.\", DeprecationWarning)\n"
     ]
    }
   ],
   "source": [
    "# Encoding categorical data\n",
    "from sklearn.preprocessing import LabelEncoder, OneHotEncoder\n",
    "labelencoder_X_1 = LabelEncoder()\n",
    "X[:, 1] = labelencoder_X_1.fit_transform(X[:, 1])\n",
    "labelencoder_X_2 = LabelEncoder()\n",
    "X[:, 2] = labelencoder_X_2.fit_transform(X[:, 2])\n",
    "onehotencoder = OneHotEncoder(categorical_features = [1])\n",
    "X = onehotencoder.fit_transform(X).toarray()\n",
    "X = X[:, 1:]"
   ]
  },
  {
   "cell_type": "code",
   "execution_count": 4,
   "metadata": {},
   "outputs": [],
   "source": [
    "# Splitting the dataset into the Training set and Test set\n",
    "from sklearn.model_selection import train_test_split\n",
    "X_train, X_test, y_train, y_test = train_test_split(X, y, test_size = 0.2, random_state = 0)"
   ]
  },
  {
   "cell_type": "code",
   "execution_count": 5,
   "metadata": {},
   "outputs": [],
   "source": [
    "# Feature Scaling\n",
    "from sklearn.preprocessing import StandardScaler\n",
    "sc = StandardScaler()\n",
    "X_train = sc.fit_transform(X_train)\n",
    "X_test = sc.transform(X_test)"
   ]
  },
  {
   "cell_type": "code",
   "execution_count": 6,
   "metadata": {},
   "outputs": [
    {
     "name": "stderr",
     "output_type": "stream",
     "text": [
      "Using TensorFlow backend.\n"
     ]
    }
   ],
   "source": [
    "# Part 2 - Now let's make the ANN!\n",
    "\n",
    "# Importing the Keras libraries and packages\n",
    "import keras\n",
    "from keras.models import Sequential\n",
    "from keras.layers import Dense"
   ]
  },
  {
   "cell_type": "code",
   "execution_count": 22,
   "metadata": {},
   "outputs": [],
   "source": [
    "# Initialising the ANN\n",
    "classifier = Sequential()\n",
    "\n",
    "# Adding the input layer and the first hidden layer\n",
    "classifier.add(Dense(units = 6, kernel_initializer = 'uniform', activation = 'tanh', input_dim = 11))\n",
    "\n",
    "# Adding the second hidden layer\n",
    "classifier.add(Dense(units = 6, kernel_initializer = 'uniform', activation = 'relu'))\n",
    "\n",
    "# Adding the output layer\n",
    "classifier.add(Dense(units = 1, kernel_initializer = 'uniform', activation = 'sigmoid'))\n",
    "\n",
    "# Compiling the ANN\n",
    "classifier.compile(optimizer = 'adam', loss = 'binary_crossentropy', metrics = ['accuracy'])"
   ]
  },
  {
   "cell_type": "code",
   "execution_count": 23,
   "metadata": {
    "scrolled": false
   },
   "outputs": [
    {
     "name": "stdout",
     "output_type": "stream",
     "text": [
      "Epoch 1/100\n",
      "8000/8000 [==============================] - 2s 239us/step - loss: 0.4950 - acc: 0.7951\n",
      "Epoch 2/100\n",
      "8000/8000 [==============================] - 2s 276us/step - loss: 0.4291 - acc: 0.7960\n",
      "Epoch 3/100\n",
      "8000/8000 [==============================] - 1s 140us/step - loss: 0.4279 - acc: 0.7960\n",
      "Epoch 4/100\n",
      "8000/8000 [==============================] - 2s 290us/step - loss: 0.4221 - acc: 0.8011\n",
      "Epoch 5/100\n",
      "8000/8000 [==============================] - 1s 177us/step - loss: 0.4042 - acc: 0.8082\n",
      "Epoch 6/100\n",
      "8000/8000 [==============================] - 2s 202us/step - loss: 0.3796 - acc: 0.8330\n",
      "Epoch 7/100\n",
      "8000/8000 [==============================] - 2s 258us/step - loss: 0.3688 - acc: 0.8392\n",
      "Epoch 8/100\n",
      "8000/8000 [==============================] - 1s 151us/step - loss: 0.3665 - acc: 0.8407\n",
      "Epoch 9/100\n",
      "8000/8000 [==============================] - 2s 301us/step - loss: 0.3653 - acc: 0.8412\n",
      "Epoch 10/100\n",
      "8000/8000 [==============================] - 1s 149us/step - loss: 0.3643 - acc: 0.8409\n",
      "Epoch 11/100\n",
      "8000/8000 [==============================] - 2s 290us/step - loss: 0.3640 - acc: 0.8387\n",
      "Epoch 12/100\n",
      "8000/8000 [==============================] - 1s 158us/step - loss: 0.3626 - acc: 0.8422\n",
      "Epoch 13/100\n",
      "8000/8000 [==============================] - 2s 199us/step - loss: 0.3614 - acc: 0.8434\n",
      "Epoch 14/100\n",
      "8000/8000 [==============================] - 4s 499us/step - loss: 0.3603 - acc: 0.8456\n",
      "Epoch 15/100\n",
      "8000/8000 [==============================] - 2s 260us/step - loss: 0.3590 - acc: 0.8460\n",
      "Epoch 16/100\n",
      "8000/8000 [==============================] - 1s 154us/step - loss: 0.3565 - acc: 0.8489\n",
      "Epoch 17/100\n",
      "8000/8000 [==============================] - 3s 398us/step - loss: 0.3544 - acc: 0.8512\n",
      "Epoch 18/100\n",
      "8000/8000 [==============================] - 3s 385us/step - loss: 0.3518 - acc: 0.8546\n",
      "Epoch 19/100\n",
      "8000/8000 [==============================] - 1s 165us/step - loss: 0.3494 - acc: 0.8582\n",
      "Epoch 20/100\n",
      "8000/8000 [==============================] - 2s 273us/step - loss: 0.3476 - acc: 0.8581\n",
      "Epoch 21/100\n",
      "8000/8000 [==============================] - 3s 339us/step - loss: 0.3465 - acc: 0.8590\n",
      "Epoch 22/100\n",
      "8000/8000 [==============================] - 1s 140us/step - loss: 0.3452 - acc: 0.8589\n",
      "Epoch 23/100\n",
      "8000/8000 [==============================] - 2s 258us/step - loss: 0.3444 - acc: 0.8589\n",
      "Epoch 24/100\n",
      "8000/8000 [==============================] - 4s 514us/step - loss: 0.3439 - acc: 0.8601\n",
      "Epoch 25/100\n",
      "8000/8000 [==============================] - 2s 198us/step - loss: 0.3431 - acc: 0.8592\n",
      "Epoch 26/100\n",
      "8000/8000 [==============================] - 2s 216us/step - loss: 0.3428 - acc: 0.8580\n",
      "Epoch 27/100\n",
      "8000/8000 [==============================] - 4s 561us/step - loss: 0.3422 - acc: 0.8619\n",
      "Epoch 28/100\n",
      "8000/8000 [==============================] - 2s 244us/step - loss: 0.3417 - acc: 0.8624\n",
      "Epoch 29/100\n",
      "8000/8000 [==============================] - 1s 173us/step - loss: 0.3410 - acc: 0.8617\n",
      "Epoch 30/100\n",
      "8000/8000 [==============================] - 2s 294us/step - loss: 0.3411 - acc: 0.8614\n",
      "Epoch 31/100\n",
      "8000/8000 [==============================] - 3s 320us/step - loss: 0.3406 - acc: 0.8607\n",
      "Epoch 32/100\n",
      "8000/8000 [==============================] - 2s 200us/step - loss: 0.3405 - acc: 0.8620\n",
      "Epoch 33/100\n",
      "8000/8000 [==============================] - 1s 162us/step - loss: 0.3399 - acc: 0.8605\n",
      "Epoch 34/100\n",
      "8000/8000 [==============================] - 2s 308us/step - loss: 0.3395 - acc: 0.8625\n",
      "Epoch 35/100\n",
      "8000/8000 [==============================] - 2s 275us/step - loss: 0.3389 - acc: 0.8621\n",
      "Epoch 36/100\n",
      "8000/8000 [==============================] - 2s 224us/step - loss: 0.3392 - acc: 0.8625\n",
      "Epoch 37/100\n",
      "8000/8000 [==============================] - 1s 135us/step - loss: 0.3385 - acc: 0.8599\n",
      "Epoch 38/100\n",
      "8000/8000 [==============================] - 2s 225us/step - loss: 0.3384 - acc: 0.8626\n",
      "Epoch 39/100\n",
      "8000/8000 [==============================] - 4s 457us/step - loss: 0.3380 - acc: 0.8614\n",
      "Epoch 40/100\n",
      "8000/8000 [==============================] - 2s 211us/step - loss: 0.3380 - acc: 0.8602\n",
      "Epoch 41/100\n",
      "8000/8000 [==============================] - 1s 148us/step - loss: 0.3373 - acc: 0.8625\n",
      "Epoch 42/100\n",
      "8000/8000 [==============================] - 2s 258us/step - loss: 0.3374 - acc: 0.8617\n",
      "Epoch 43/100\n",
      "8000/8000 [==============================] - 2s 302us/step - loss: 0.3375 - acc: 0.8626\n",
      "Epoch 44/100\n",
      "8000/8000 [==============================] - 2s 267us/step - loss: 0.3370 - acc: 0.8619\n",
      "Epoch 45/100\n",
      "8000/8000 [==============================] - 1s 144us/step - loss: 0.3369 - acc: 0.8626\n",
      "Epoch 46/100\n",
      "8000/8000 [==============================] - 2s 237us/step - loss: 0.3368 - acc: 0.8635\n",
      "Epoch 47/100\n",
      "8000/8000 [==============================] - 2s 312us/step - loss: 0.3363 - acc: 0.8621\n",
      "Epoch 48/100\n",
      "8000/8000 [==============================] - 2s 305us/step - loss: 0.3367 - acc: 0.8601\n",
      "Epoch 49/100\n",
      "8000/8000 [==============================] - 2s 272us/step - loss: 0.3355 - acc: 0.8631\n",
      "Epoch 50/100\n",
      "8000/8000 [==============================] - 1s 140us/step - loss: 0.3368 - acc: 0.8625\n",
      "Epoch 51/100\n",
      "8000/8000 [==============================] - 2s 211us/step - loss: 0.3362 - acc: 0.8624\n",
      "Epoch 52/100\n",
      "8000/8000 [==============================] - 3s 327us/step - loss: 0.3359 - acc: 0.8630\n",
      "Epoch 53/100\n",
      "8000/8000 [==============================] - 2s 312us/step - loss: 0.3355 - acc: 0.8632\n",
      "Epoch 54/100\n",
      "8000/8000 [==============================] - 1s 135us/step - loss: 0.3357 - acc: 0.8619\n",
      "Epoch 55/100\n",
      "8000/8000 [==============================] - 2s 209us/step - loss: 0.3356 - acc: 0.8627\n",
      "Epoch 56/100\n",
      "8000/8000 [==============================] - 2s 296us/step - loss: 0.3350 - acc: 0.8629\n",
      "Epoch 57/100\n",
      "8000/8000 [==============================] - 2s 292us/step - loss: 0.3353 - acc: 0.8641\n",
      "Epoch 58/100\n",
      "8000/8000 [==============================] - 1s 176us/step - loss: 0.3355 - acc: 0.8621\n",
      "Epoch 59/100\n",
      "8000/8000 [==============================] - 1s 137us/step - loss: 0.3346 - acc: 0.8604\n",
      "Epoch 60/100\n",
      "8000/8000 [==============================] - 2s 303us/step - loss: 0.3349 - acc: 0.8639\n",
      "Epoch 61/100\n",
      "8000/8000 [==============================] - 3s 318us/step - loss: 0.3350 - acc: 0.8630\n",
      "Epoch 62/100\n",
      "8000/8000 [==============================] - 2s 223us/step - loss: 0.3348 - acc: 0.8614\n",
      "Epoch 63/100\n",
      "8000/8000 [==============================] - 1s 142us/step - loss: 0.3349 - acc: 0.8630\n",
      "Epoch 64/100\n",
      "8000/8000 [==============================] - 2s 253us/step - loss: 0.3349 - acc: 0.8622\n",
      "Epoch 65/100\n",
      "8000/8000 [==============================] - 3s 342us/step - loss: 0.3347 - acc: 0.8624\n",
      "Epoch 66/100\n",
      "8000/8000 [==============================] - 2s 259us/step - loss: 0.3345 - acc: 0.8629\n",
      "Epoch 67/100\n",
      "8000/8000 [==============================] - 1s 136us/step - loss: 0.3346 - acc: 0.8635\n",
      "Epoch 68/100\n",
      "8000/8000 [==============================] - 2s 212us/step - loss: 0.3341 - acc: 0.8632\n",
      "Epoch 69/100\n",
      "8000/8000 [==============================] - 2s 298us/step - loss: 0.3342 - acc: 0.8609\n",
      "Epoch 70/100\n",
      "8000/8000 [==============================] - 3s 316us/step - loss: 0.3345 - acc: 0.8617\n",
      "Epoch 71/100\n",
      "8000/8000 [==============================] - 2s 283us/step - loss: 0.3345 - acc: 0.8612\n",
      "Epoch 72/100\n",
      "8000/8000 [==============================] - 1s 137us/step - loss: 0.3344 - acc: 0.8617\n",
      "Epoch 73/100\n",
      "8000/8000 [==============================] - 2s 215us/step - loss: 0.3346 - acc: 0.8614\n",
      "Epoch 74/100\n",
      "8000/8000 [==============================] - 2s 296us/step - loss: 0.3340 - acc: 0.8630\n",
      "Epoch 75/100\n",
      "8000/8000 [==============================] - 2s 294us/step - loss: 0.3346 - acc: 0.8626\n",
      "Epoch 76/100\n",
      "8000/8000 [==============================] - 1s 165us/step - loss: 0.3344 - acc: 0.8621\n",
      "Epoch 77/100\n",
      "8000/8000 [==============================] - 1s 150us/step - loss: 0.3339 - acc: 0.8622\n",
      "Epoch 78/100\n",
      "8000/8000 [==============================] - 3s 317us/step - loss: 0.3336 - acc: 0.8617\n",
      "Epoch 79/100\n",
      "8000/8000 [==============================] - 3s 317us/step - loss: 0.3340 - acc: 0.8609\n",
      "Epoch 80/100\n",
      "8000/8000 [==============================] - 2s 206us/step - loss: 0.3345 - acc: 0.8611\n",
      "Epoch 81/100\n",
      "8000/8000 [==============================] - 1s 143us/step - loss: 0.3338 - acc: 0.8640\n",
      "Epoch 82/100\n"
     ]
    },
    {
     "name": "stdout",
     "output_type": "stream",
     "text": [
      "8000/8000 [==============================] - 2s 301us/step - loss: 0.3335 - acc: 0.8615\n",
      "Epoch 83/100\n",
      "8000/8000 [==============================] - 2s 287us/step - loss: 0.3337 - acc: 0.8644\n",
      "Epoch 84/100\n",
      "8000/8000 [==============================] - 2s 234us/step - loss: 0.3338 - acc: 0.8605\n",
      "Epoch 85/100\n",
      "8000/8000 [==============================] - 1s 135us/step - loss: 0.3334 - acc: 0.8624\n",
      "Epoch 86/100\n",
      "8000/8000 [==============================] - 2s 216us/step - loss: 0.3336 - acc: 0.8620\n",
      "Epoch 87/100\n",
      "8000/8000 [==============================] - 3s 430us/step - loss: 0.3337 - acc: 0.8621\n",
      "Epoch 88/100\n",
      "8000/8000 [==============================] - 3s 408us/step - loss: 0.3335 - acc: 0.8629\n",
      "Epoch 89/100\n",
      "8000/8000 [==============================] - 1s 157us/step - loss: 0.3339 - acc: 0.8616\n",
      "Epoch 90/100\n",
      "8000/8000 [==============================] - 1s 136us/step - loss: 0.3333 - acc: 0.8625\n",
      "Epoch 91/100\n",
      "8000/8000 [==============================] - 4s 475us/step - loss: 0.3332 - acc: 0.8634\n",
      "Epoch 92/100\n",
      "8000/8000 [==============================] - 4s 541us/step - loss: 0.3331 - acc: 0.8639\n",
      "Epoch 93/100\n",
      "8000/8000 [==============================] - 1s 146us/step - loss: 0.3331 - acc: 0.8619\n",
      "Epoch 94/100\n",
      "8000/8000 [==============================] - 2s 229us/step - loss: 0.3332 - acc: 0.8625\n",
      "Epoch 95/100\n",
      "8000/8000 [==============================] - 3s 366us/step - loss: 0.3332 - acc: 0.8636\n",
      "Epoch 96/100\n",
      "8000/8000 [==============================] - 3s 382us/step - loss: 0.3334 - acc: 0.8626\n",
      "Epoch 97/100\n",
      "8000/8000 [==============================] - 2s 254us/step - loss: 0.3333 - acc: 0.8637\n",
      "Epoch 98/100\n",
      "8000/8000 [==============================] - 2s 250us/step - loss: 0.3328 - acc: 0.8629\n",
      "Epoch 99/100\n",
      "8000/8000 [==============================] - 4s 472us/step - loss: 0.3330 - acc: 0.8626\n",
      "Epoch 100/100\n",
      "8000/8000 [==============================] - 4s 451us/step - loss: 0.3332 - acc: 0.8635\n"
     ]
    },
    {
     "data": {
      "text/plain": [
       "<keras.callbacks.History at 0x7f09b4081e10>"
      ]
     },
     "execution_count": 23,
     "metadata": {},
     "output_type": "execute_result"
    }
   ],
   "source": [
    "# Fitting the ANN to the Training set\n",
    "classifier.fit(X_train, y_train, batch_size = 10, epochs = 100)"
   ]
  },
  {
   "cell_type": "code",
   "execution_count": 24,
   "metadata": {},
   "outputs": [],
   "source": [
    "\n",
    "# Part 3 - Making predictions and evaluating the model\n",
    "\n",
    "# Predicting the Test set results\n",
    "y_pred = classifier.predict(X_test)\n",
    "y_pred = (y_pred > 0.5)\n",
    "\n",
    "# Making the Confusion Matrix\n",
    "from sklearn.metrics import confusion_matrix\n",
    "cm = confusion_matrix(y_test, y_pred)"
   ]
  },
  {
   "cell_type": "code",
   "execution_count": 25,
   "metadata": {},
   "outputs": [
    {
     "data": {
      "text/plain": [
       "array([[1510,   85],\n",
       "       [ 192,  213]])"
      ]
     },
     "execution_count": 25,
     "metadata": {},
     "output_type": "execute_result"
    }
   ],
   "source": [
    "cm"
   ]
  },
  {
   "cell_type": "code",
   "execution_count": null,
   "metadata": {},
   "outputs": [],
   "source": []
  }
 ],
 "metadata": {
  "kernelspec": {
   "display_name": "Python 3",
   "language": "python",
   "name": "python3"
  },
  "language_info": {
   "codemirror_mode": {
    "name": "ipython",
    "version": 3
   },
   "file_extension": ".py",
   "mimetype": "text/x-python",
   "name": "python",
   "nbconvert_exporter": "python",
   "pygments_lexer": "ipython3",
   "version": "3.6.8"
  }
 },
 "nbformat": 4,
 "nbformat_minor": 2
}
