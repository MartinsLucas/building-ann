{
 "cells": [
  {
   "cell_type": "markdown",
   "metadata": {},
   "source": [
    "# Artificial Neural Network"
   ]
  },
  {
   "cell_type": "markdown",
   "metadata": {},
   "source": [
    "## Import libraries"
   ]
  },
  {
   "cell_type": "code",
   "execution_count": 1,
   "metadata": {},
   "outputs": [],
   "source": [
    "import numpy as np\n",
    "import matplotlib.pyplot as plt\n",
    "import pandas as pd"
   ]
  },
  {
   "cell_type": "markdown",
   "metadata": {},
   "source": [
    "## Importing Dataset"
   ]
  },
  {
   "cell_type": "code",
   "execution_count": 2,
   "metadata": {},
   "outputs": [],
   "source": [
    "dataset = pd.read_csv('Churn_Modelling.csv')\n",
    "X = dataset.iloc[:, 3:13].values # Get all lines from column 3 to 12 (column 13 is not included!) - Indepedent Variable\n",
    "y = dataset.iloc[:, 13].values # Get all lines from column 13 - The depedent variable"
   ]
  },
  {
   "cell_type": "markdown",
   "metadata": {},
   "source": [
    "## Encoding categorical Data"
   ]
  },
  {
   "cell_type": "code",
   "execution_count": 5,
   "metadata": {},
   "outputs": [
    {
     "name": "stderr",
     "output_type": "stream",
     "text": [
      "/home/guilherme/.conda/envs/deeplearning/lib/python3.6/site-packages/sklearn/preprocessing/_encoders.py:371: FutureWarning: The handling of integer data will change in version 0.22. Currently, the categories are determined based on the range [0, max(values)], while in the future they will be determined based on the unique values.\n",
      "If you want the future behaviour and silence this warning, you can specify \"categories='auto'\".\n",
      "In case you used a LabelEncoder before this OneHotEncoder to convert the categories to integers, then you can now use the OneHotEncoder directly.\n",
      "  warnings.warn(msg, FutureWarning)\n",
      "/home/guilherme/.conda/envs/deeplearning/lib/python3.6/site-packages/sklearn/preprocessing/_encoders.py:392: DeprecationWarning: The 'categorical_features' keyword is deprecated in version 0.20 and will be removed in 0.22. You can use the ColumnTransformer instead.\n",
      "  \"use the ColumnTransformer instead.\", DeprecationWarning)\n"
     ]
    }
   ],
   "source": [
    "# Transform categorical data into numerical values\n",
    "from sklearn.preprocessing import LabelEncoder, OneHotEncoder # Import encoders\n",
    "labelencoder_X_1 = LabelEncoder()\n",
    "X[:, 1] = labelencoder_X_1.fit_transform(X[:, 1]) # Encode first categorical column\n",
    "labelencoder_X_2 = LabelEncoder()\n",
    "X[:, 2] = labelencoder_X_2.fit_transform(X[:, 2]) # Encode second categorical column\n",
    "onehotencoder = OneHotEncoder(categorical_features = [1]) # Merge categorical columns to generate one column with the correlated values\n",
    "X = onehotencoder.fit_transform(X).toarray()\n",
    "X = X[:, 1:]"
   ]
  },
  {
   "cell_type": "markdown",
   "metadata": {},
   "source": [
    "## Split dataset"
   ]
  },
  {
   "cell_type": "code",
   "execution_count": 6,
   "metadata": {},
   "outputs": [],
   "source": [
    "from sklearn.model_selection import train_test_split\n",
    "X_train, X_test, y_train, y_test = train_test_split(X, y, test_size = 0.2, random_state = 0) # Split dataset into training data and test data"
   ]
  },
  {
   "cell_type": "markdown",
   "metadata": {},
   "source": [
    "## Feature scaling"
   ]
  },
  {
   "cell_type": "code",
   "execution_count": 7,
   "metadata": {},
   "outputs": [],
   "source": [
    "from sklearn.preprocessing import StandardScaler\n",
    "sc = StandardScaler()\n",
    "X_train = sc.fit_transform(X_train) # Transform all features to the same scale\n",
    "X_test = sc.transform(X_test) # Same here!"
   ]
  },
  {
   "cell_type": "markdown",
   "metadata": {},
   "source": [
    "# Making the Neural Network"
   ]
  },
  {
   "cell_type": "markdown",
   "metadata": {},
   "source": [
    "## Import keras"
   ]
  },
  {
   "cell_type": "code",
   "execution_count": 8,
   "metadata": {},
   "outputs": [
    {
     "name": "stderr",
     "output_type": "stream",
     "text": [
      "Using TensorFlow backend.\n"
     ]
    }
   ],
   "source": [
    "import keras\n",
    "from keras.models import Sequential\n",
    "from keras.layers import Dense"
   ]
  },
  {
   "cell_type": "markdown",
   "metadata": {},
   "source": [
    "## Gonna add some layers baby!"
   ]
  },
  {
   "cell_type": "code",
   "execution_count": 22,
   "metadata": {},
   "outputs": [],
   "source": [
    "classifier = Sequential()\n",
    "#### Adding layers ####\n",
    "classifier.add(Dense(units = 6, kernel_initializer = 'uniform', activation = 'relu', input_dim = 11)) # Input layer\n",
    "classifier.add(Dense(units = 6, kernel_initializer = 'uniform', activation = 'relu')) # Hidden layer, say hi!\n",
    "classifier.add(Dense(units = 12, kernel_initializer = 'uniform', activation = 'relu')) # Hidden layer, say hi!\n",
    "classifier.add(Dense(units = 3, kernel_initializer = 'uniform', activation = 'relu')) # Hidden layer, say hi!\n",
    "classifier.add(Dense(units = 1, kernel_initializer = 'uniform', activation = 'sigmoid')) # Our output layer, she is so pretty"
   ]
  },
  {
   "cell_type": "code",
   "execution_count": 24,
   "metadata": {},
   "outputs": [],
   "source": [
    "classifier.compile(optimizer = 'adam', loss = 'binary_crossentropy', metrics = ['accuracy']) # Compiling our damn good network"
   ]
  },
  {
   "cell_type": "markdown",
   "metadata": {},
   "source": [
    "## No Pain. No Gain. Right?"
   ]
  },
  {
   "cell_type": "code",
   "execution_count": 32,
   "metadata": {},
   "outputs": [
    {
     "name": "stdout",
     "output_type": "stream",
     "text": [
      "Epoch 1/50\n",
      "8000/8000 [==============================] - 4s 503us/step - loss: 0.4020 - acc: 0.8341\n",
      "Epoch 2/50\n",
      "8000/8000 [==============================] - 5s 610us/step - loss: 0.4017 - acc: 0.8354\n",
      "Epoch 3/50\n",
      "8000/8000 [==============================] - 5s 588us/step - loss: 0.4019 - acc: 0.8354\n",
      "Epoch 4/50\n",
      "8000/8000 [==============================] - 3s 430us/step - loss: 0.4020 - acc: 0.8354\n",
      "Epoch 5/50\n",
      "8000/8000 [==============================] - 4s 464us/step - loss: 0.4014 - acc: 0.8345\n",
      "Epoch 6/50\n",
      "8000/8000 [==============================] - 3s 430us/step - loss: 0.4016 - acc: 0.8349\n",
      "Epoch 7/50\n",
      "8000/8000 [==============================] - 4s 486us/step - loss: 0.4017 - acc: 0.8350\n",
      "Epoch 8/50\n",
      "8000/8000 [==============================] - 4s 522us/step - loss: 0.4022 - acc: 0.8345\n",
      "Epoch 9/50\n",
      "8000/8000 [==============================] - 4s 531us/step - loss: 0.4020 - acc: 0.8339\n",
      "Epoch 10/50\n",
      "8000/8000 [==============================] - 4s 503us/step - loss: 0.4009 - acc: 0.8355\n",
      "Epoch 11/50\n",
      "8000/8000 [==============================] - 4s 540us/step - loss: 0.4020 - acc: 0.8352\n",
      "Epoch 12/50\n",
      "8000/8000 [==============================] - 7s 820us/step - loss: 0.4009 - acc: 0.8339\n",
      "Epoch 13/50\n",
      "8000/8000 [==============================] - 5s 599us/step - loss: 0.4017 - acc: 0.8337\n",
      "Epoch 14/50\n",
      "8000/8000 [==============================] - 5s 685us/step - loss: 0.4017 - acc: 0.8335\n",
      "Epoch 15/50\n",
      "8000/8000 [==============================] - 5s 671us/step - loss: 0.4014 - acc: 0.8332\n",
      "Epoch 16/50\n",
      "8000/8000 [==============================] - 6s 765us/step - loss: 0.4018 - acc: 0.8339\n",
      "Epoch 17/50\n",
      "8000/8000 [==============================] - 5s 575us/step - loss: 0.4015 - acc: 0.8344\n",
      "Epoch 18/50\n",
      "8000/8000 [==============================] - 5s 666us/step - loss: 0.4015 - acc: 0.8347\n",
      "Epoch 19/50\n",
      "8000/8000 [==============================] - 5s 638us/step - loss: 0.4019 - acc: 0.8359\n",
      "Epoch 20/50\n",
      "8000/8000 [==============================] - 5s 569us/step - loss: 0.4011 - acc: 0.8345\n",
      "Epoch 21/50\n",
      "8000/8000 [==============================] - 5s 620us/step - loss: 0.4000 - acc: 0.8355\n",
      "Epoch 22/50\n",
      "8000/8000 [==============================] - 6s 740us/step - loss: 0.4020 - acc: 0.8349\n",
      "Epoch 23/50\n",
      "8000/8000 [==============================] - 5s 623us/step - loss: 0.4010 - acc: 0.8326\n",
      "Epoch 24/50\n",
      "8000/8000 [==============================] - 5s 638us/step - loss: 0.4016 - acc: 0.8359\n",
      "Epoch 25/50\n",
      "8000/8000 [==============================] - 5s 575us/step - loss: 0.4012 - acc: 0.8360\n",
      "Epoch 26/50\n",
      "8000/8000 [==============================] - 5s 611us/step - loss: 0.4015 - acc: 0.8350\n",
      "Epoch 27/50\n",
      "8000/8000 [==============================] - 4s 493us/step - loss: 0.4012 - acc: 0.8346\n",
      "Epoch 28/50\n",
      "8000/8000 [==============================] - 6s 700us/step - loss: 0.4016 - acc: 0.8346\n",
      "Epoch 29/50\n",
      "8000/8000 [==============================] - 6s 767us/step - loss: 0.4012 - acc: 0.8356\n",
      "Epoch 30/50\n",
      "8000/8000 [==============================] - 7s 883us/step - loss: 0.4024 - acc: 0.8349\n",
      "Epoch 31/50\n",
      "8000/8000 [==============================] - 5s 671us/step - loss: 0.4009 - acc: 0.8336\n",
      "Epoch 32/50\n",
      "8000/8000 [==============================] - 5s 652us/step - loss: 0.4015 - acc: 0.8351\n",
      "Epoch 33/50\n",
      "8000/8000 [==============================] - 5s 564us/step - loss: 0.4018 - acc: 0.8339\n",
      "Epoch 34/50\n",
      "8000/8000 [==============================] - 4s 496us/step - loss: 0.4006 - acc: 0.8346\n",
      "Epoch 35/50\n",
      "8000/8000 [==============================] - 4s 562us/step - loss: 0.4014 - acc: 0.8355\n",
      "Epoch 36/50\n",
      "8000/8000 [==============================] - 4s 519us/step - loss: 0.4003 - acc: 0.8349\n",
      "Epoch 37/50\n",
      "8000/8000 [==============================] - 4s 470us/step - loss: 0.4009 - acc: 0.8352\n",
      "Epoch 38/50\n",
      "8000/8000 [==============================] - 4s 501us/step - loss: 0.4007 - acc: 0.8361\n",
      "Epoch 39/50\n",
      "8000/8000 [==============================] - 6s 702us/step - loss: 0.4006 - acc: 0.8336\n",
      "Epoch 40/50\n",
      "8000/8000 [==============================] - 4s 496us/step - loss: 0.4012 - acc: 0.8359\n",
      "Epoch 41/50\n",
      "8000/8000 [==============================] - 4s 445us/step - loss: 0.4010 - acc: 0.8321\n",
      "Epoch 42/50\n",
      "8000/8000 [==============================] - 5s 582us/step - loss: 0.4010 - acc: 0.8344\n",
      "Epoch 43/50\n",
      "8000/8000 [==============================] - 4s 456us/step - loss: 0.4014 - acc: 0.8345\n",
      "Epoch 44/50\n",
      "8000/8000 [==============================] - 5s 650us/step - loss: 0.4012 - acc: 0.8344\n",
      "Epoch 45/50\n",
      "8000/8000 [==============================] - 4s 550us/step - loss: 0.4003 - acc: 0.8350\n",
      "Epoch 46/50\n",
      "8000/8000 [==============================] - 4s 488us/step - loss: 0.4015 - acc: 0.8347\n",
      "Epoch 47/50\n",
      "8000/8000 [==============================] - 4s 538us/step - loss: 0.4003 - acc: 0.8337\n",
      "Epoch 48/50\n",
      "8000/8000 [==============================] - 4s 523us/step - loss: 0.4015 - acc: 0.8356\n",
      "Epoch 49/50\n",
      "8000/8000 [==============================] - 4s 541us/step - loss: 0.4007 - acc: 0.8344\n",
      "Epoch 50/50\n",
      "8000/8000 [==============================] - 4s 519us/step - loss: 0.4004 - acc: 0.8336\n"
     ]
    },
    {
     "data": {
      "text/plain": [
       "<keras.callbacks.History at 0x7fc624541240>"
      ]
     },
     "execution_count": 32,
     "metadata": {},
     "output_type": "execute_result"
    }
   ],
   "source": [
    "# Let's train, 'No Pain. No Gain' they said.\n",
    "classifier.fit(X_train, y_train, batch_size = 10, epochs = 50)"
   ]
  },
  {
   "cell_type": "markdown",
   "metadata": {},
   "source": [
    "## Just doing some tests, keep scrolling!"
   ]
  },
  {
   "cell_type": "code",
   "execution_count": 33,
   "metadata": {},
   "outputs": [],
   "source": [
    "y_pred = classifier.predict(X_test)\n",
    "y_pred = (y_pred > 0.5)"
   ]
  },
  {
   "cell_type": "markdown",
   "metadata": {},
   "source": [
    "## Got confused?"
   ]
  },
  {
   "cell_type": "code",
   "execution_count": 35,
   "metadata": {},
   "outputs": [
    {
     "name": "stdout",
     "output_type": "stream",
     "text": [
      "[[1557   38]\n",
      " [ 280  125]]\n"
     ]
    }
   ],
   "source": [
    "from sklearn.metrics import confusion_matrix\n",
    "cm = confusion_matrix(y_test, y_pred)\n",
    "print(cm) # Thats all folks"
   ]
  }
 ],
 "metadata": {
  "kernelspec": {
   "display_name": "Python 3",
   "language": "python",
   "name": "python3"
  },
  "language_info": {
   "codemirror_mode": {
    "name": "ipython",
    "version": 3
   },
   "file_extension": ".py",
   "mimetype": "text/x-python",
   "name": "python",
   "nbconvert_exporter": "python",
   "pygments_lexer": "ipython3",
   "version": "3.6.8"
  }
 },
 "nbformat": 4,
 "nbformat_minor": 2
}
