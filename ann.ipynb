{
 "cells": [
  {
   "cell_type": "markdown",
   "metadata": {},
   "source": [
    "# Artificial Neural Network"
   ]
  },
  {
   "cell_type": "markdown",
   "metadata": {},
   "source": [
    "## Import libraries"
   ]
  },
  {
   "cell_type": "code",
   "execution_count": 1,
   "metadata": {},
   "outputs": [],
   "source": [
    "import numpy as np\n",
    "import matplotlib.pyplot as plt\n",
    "import pandas as pd"
   ]
  },
  {
   "cell_type": "markdown",
   "metadata": {},
   "source": [
    "## Importing Dataset"
   ]
  },
  {
   "cell_type": "code",
   "execution_count": 2,
   "metadata": {},
   "outputs": [],
   "source": [
    "dataset = pd.read_csv('Churn_Modelling.csv')\n",
    "X = dataset.iloc[:, 3:13].values # Get all lines from column 3 to 12 (column 13 is not included!) - Indepedent Variable\n",
    "y = dataset.iloc[:, 13].values # Get all lines from column 13 - The depedent variable"
   ]
  },
  {
   "cell_type": "markdown",
   "metadata": {},
   "source": [
    "## Encoding categorical Data"
   ]
  },
  {
   "cell_type": "code",
   "execution_count": 3,
   "metadata": {},
   "outputs": [
    {
     "name": "stderr",
     "output_type": "stream",
     "text": [
      "/home/alunos/anaconda3/envs/deep/lib/python3.6/site-packages/sklearn/preprocessing/_encoders.py:371: FutureWarning: The handling of integer data will change in version 0.22. Currently, the categories are determined based on the range [0, max(values)], while in the future they will be determined based on the unique values.\n",
      "If you want the future behaviour and silence this warning, you can specify \"categories='auto'\".\n",
      "In case you used a LabelEncoder before this OneHotEncoder to convert the categories to integers, then you can now use the OneHotEncoder directly.\n",
      "  warnings.warn(msg, FutureWarning)\n",
      "/home/alunos/anaconda3/envs/deep/lib/python3.6/site-packages/sklearn/preprocessing/_encoders.py:392: DeprecationWarning: The 'categorical_features' keyword is deprecated in version 0.20 and will be removed in 0.22. You can use the ColumnTransformer instead.\n",
      "  \"use the ColumnTransformer instead.\", DeprecationWarning)\n"
     ]
    }
   ],
   "source": [
    "# Transform categorical data into numerical values\n",
    "from sklearn.preprocessing import LabelEncoder, OneHotEncoder # Import encoders\n",
    "labelencoder_X_1 = LabelEncoder()\n",
    "X[:, 1] = labelencoder_X_1.fit_transform(X[:, 1]) # Encode first categorical column\n",
    "labelencoder_X_2 = LabelEncoder()\n",
    "X[:, 2] = labelencoder_X_2.fit_transform(X[:, 2]) # Encode second categorical column\n",
    "onehotencoder = OneHotEncoder(categorical_features = [1]) # Merge categorical columns to generate one column with the correlated values\n",
    "X = onehotencoder.fit_transform(X).toarray()\n",
    "X = X[:, 1:]"
   ]
  },
  {
   "cell_type": "markdown",
   "metadata": {},
   "source": [
    "## Split dataset"
   ]
  },
  {
   "cell_type": "code",
   "execution_count": 4,
   "metadata": {},
   "outputs": [],
   "source": [
    "from sklearn.model_selection import train_test_split\n",
    "X_train, X_test, y_train, y_test = train_test_split(X, y, test_size = 0.2, random_state = 0) # Split dataset into training data and test data"
   ]
  },
  {
   "cell_type": "code",
   "execution_count": 5,
   "metadata": {},
   "outputs": [
    {
     "name": "stdout",
     "output_type": "stream",
     "text": [
      "[[0.0000000e+00 1.0000000e+00 6.6700000e+02 ... 1.0000000e+00\n",
      "  0.0000000e+00 1.6383064e+05]\n",
      " [1.0000000e+00 0.0000000e+00 4.2700000e+02 ... 1.0000000e+00\n",
      "  1.0000000e+00 5.7098000e+04]\n",
      " [0.0000000e+00 0.0000000e+00 5.3500000e+02 ... 1.0000000e+00\n",
      "  0.0000000e+00 1.8563076e+05]\n",
      " ...\n",
      " [0.0000000e+00 0.0000000e+00 7.3800000e+02 ... 1.0000000e+00\n",
      "  0.0000000e+00 1.8142987e+05]\n",
      " [0.0000000e+00 1.0000000e+00 5.9000000e+02 ... 1.0000000e+00\n",
      "  1.0000000e+00 1.4875016e+05]\n",
      " [1.0000000e+00 0.0000000e+00 6.2300000e+02 ... 1.0000000e+00\n",
      "  0.0000000e+00 1.1885526e+05]] [[1.0000000e+00 0.0000000e+00 5.9700000e+02 ... 1.0000000e+00\n",
      "  1.0000000e+00 1.9285267e+05]\n",
      " [0.0000000e+00 0.0000000e+00 5.2300000e+02 ... 1.0000000e+00\n",
      "  0.0000000e+00 1.2870210e+05]\n",
      " [0.0000000e+00 1.0000000e+00 7.0600000e+02 ... 1.0000000e+00\n",
      "  1.0000000e+00 7.5732250e+04]\n",
      " ...\n",
      " [0.0000000e+00 1.0000000e+00 5.7800000e+02 ... 1.0000000e+00\n",
      "  0.0000000e+00 1.4153319e+05]\n",
      " [1.0000000e+00 0.0000000e+00 6.5000000e+02 ... 1.0000000e+00\n",
      "  1.0000000e+00 1.1276480e+04]\n",
      " [1.0000000e+00 0.0000000e+00 5.7300000e+02 ... 1.0000000e+00\n",
      "  0.0000000e+00 1.9295060e+05]] [0 0 0 ... 0 0 1] [0 1 0 ... 0 0 0]\n"
     ]
    }
   ],
   "source": [
    "print(X_train, X_test, y_train, y_test)"
   ]
  },
  {
   "cell_type": "markdown",
   "metadata": {},
   "source": [
    "## Feature scaling"
   ]
  },
  {
   "cell_type": "code",
   "execution_count": 6,
   "metadata": {},
   "outputs": [],
   "source": [
    "from sklearn.preprocessing import StandardScaler\n",
    "sc = StandardScaler()\n",
    "X_train = sc.fit_transform(X_train) # Transform all features to the same scale\n",
    "X_test = sc.transform(X_test) # Same here!"
   ]
  },
  {
   "cell_type": "markdown",
   "metadata": {},
   "source": [
    "# Making the Neural Network"
   ]
  },
  {
   "cell_type": "markdown",
   "metadata": {},
   "source": [
    "## Import keras"
   ]
  },
  {
   "cell_type": "code",
   "execution_count": 7,
   "metadata": {},
   "outputs": [
    {
     "name": "stderr",
     "output_type": "stream",
     "text": [
      "Using TensorFlow backend.\n"
     ]
    }
   ],
   "source": [
    "import keras\n",
    "from keras.models import Sequential\n",
    "from keras.layers import Dense"
   ]
  },
  {
   "cell_type": "markdown",
   "metadata": {},
   "source": [
    "## Gonna add some layers baby!"
   ]
  },
  {
   "cell_type": "code",
   "execution_count": 8,
   "metadata": {},
   "outputs": [],
   "source": [
    "classifier = Sequential()\n",
    "#### Adding layers ####\n",
    "classifier.add(Dense(units = 6, kernel_initializer = 'uniform', activation = 'relu', input_dim = 11)) # Input layer\n",
    "classifier.add(Dense(units = 6, kernel_initializer = 'uniform', activation = 'relu')) # Hidden layer, say hi!\n",
    "classifier.add(Dense(units = 12, kernel_initializer = 'uniform', activation = 'relu')) # Hidden layer, say hi!\n",
    "classifier.add(Dense(units = 3, kernel_initializer = 'uniform', activation = 'relu')) # Hidden layer, say hi!\n",
    "classifier.add(Dense(units = 1, kernel_initializer = 'uniform', activation = 'sigmoid')) # Our output layer, she is so pretty"
   ]
  },
  {
   "cell_type": "code",
   "execution_count": 9,
   "metadata": {},
   "outputs": [],
   "source": [
    "classifier.compile(optimizer = 'adam', loss = 'binary_crossentropy', metrics = ['accuracy']) # Compiling our damn good network"
   ]
  },
  {
   "cell_type": "markdown",
   "metadata": {},
   "source": [
    "## No Pain. No Gain. Right?"
   ]
  },
  {
   "cell_type": "code",
   "execution_count": 10,
   "metadata": {},
   "outputs": [
    {
     "name": "stdout",
     "output_type": "stream",
     "text": [
      "Epoch 1/50\n",
      "8000/8000 [==============================] - 2s 284us/step - loss: 0.4818 - acc: 0.7960\n",
      "Epoch 2/50\n",
      "8000/8000 [==============================] - 2s 218us/step - loss: 0.4274 - acc: 0.7960\n",
      "Epoch 3/50\n",
      "8000/8000 [==============================] - 2s 239us/step - loss: 0.4213 - acc: 0.8095\n",
      "Epoch 4/50\n",
      "8000/8000 [==============================] - 2s 210us/step - loss: 0.4175 - acc: 0.8251\n",
      "Epoch 5/50\n",
      "8000/8000 [==============================] - 1s 137us/step - loss: 0.4153 - acc: 0.8284\n",
      "Epoch 6/50\n",
      "8000/8000 [==============================] - 1s 133us/step - loss: 0.4141 - acc: 0.8301\n",
      "Epoch 7/50\n",
      "8000/8000 [==============================] - 1s 134us/step - loss: 0.4122 - acc: 0.8319\n",
      "Epoch 8/50\n",
      "8000/8000 [==============================] - 1s 134us/step - loss: 0.4111 - acc: 0.8340\n",
      "Epoch 9/50\n",
      "8000/8000 [==============================] - 1s 186us/step - loss: 0.4097 - acc: 0.8336\n",
      "Epoch 10/50\n",
      "8000/8000 [==============================] - 1s 146us/step - loss: 0.4083 - acc: 0.8321\n",
      "Epoch 11/50\n",
      "8000/8000 [==============================] - 1s 126us/step - loss: 0.4078 - acc: 0.8339\n",
      "Epoch 12/50\n",
      "8000/8000 [==============================] - 1s 145us/step - loss: 0.4069 - acc: 0.8334\n",
      "Epoch 13/50\n",
      "8000/8000 [==============================] - 1s 123us/step - loss: 0.4068 - acc: 0.8337\n",
      "Epoch 14/50\n",
      "8000/8000 [==============================] - 1s 142us/step - loss: 0.4058 - acc: 0.8340\n",
      "Epoch 15/50\n",
      "8000/8000 [==============================] - 1s 125us/step - loss: 0.4052 - acc: 0.8349\n",
      "Epoch 16/50\n",
      "8000/8000 [==============================] - 1s 151us/step - loss: 0.4050 - acc: 0.8341\n",
      "Epoch 17/50\n",
      "8000/8000 [==============================] - 1s 144us/step - loss: 0.4045 - acc: 0.8321\n",
      "Epoch 18/50\n",
      "8000/8000 [==============================] - 2s 195us/step - loss: 0.4047 - acc: 0.8362\n",
      "Epoch 19/50\n",
      "8000/8000 [==============================] - 1s 149us/step - loss: 0.4041 - acc: 0.8345\n",
      "Epoch 20/50\n",
      "8000/8000 [==============================] - 1s 122us/step - loss: 0.4039 - acc: 0.8341\n",
      "Epoch 21/50\n",
      "8000/8000 [==============================] - 1s 143us/step - loss: 0.4038 - acc: 0.8349\n",
      "Epoch 22/50\n",
      "8000/8000 [==============================] - 1s 133us/step - loss: 0.4035 - acc: 0.8336\n",
      "Epoch 23/50\n",
      "8000/8000 [==============================] - 2s 208us/step - loss: 0.4038 - acc: 0.8347\n",
      "Epoch 24/50\n",
      "8000/8000 [==============================] - 1s 120us/step - loss: 0.4033 - acc: 0.8339\n",
      "Epoch 25/50\n",
      "8000/8000 [==============================] - 1s 170us/step - loss: 0.4039 - acc: 0.8326\n",
      "Epoch 26/50\n",
      "8000/8000 [==============================] - 1s 144us/step - loss: 0.4033 - acc: 0.8354\n",
      "Epoch 27/50\n",
      "8000/8000 [==============================] - 1s 154us/step - loss: 0.4031 - acc: 0.8340\n",
      "Epoch 28/50\n",
      "8000/8000 [==============================] - 1s 137us/step - loss: 0.4029 - acc: 0.8342\n",
      "Epoch 29/50\n",
      "8000/8000 [==============================] - 1s 135us/step - loss: 0.4029 - acc: 0.8337\n",
      "Epoch 30/50\n",
      "8000/8000 [==============================] - 2s 192us/step - loss: 0.4030 - acc: 0.8342\n",
      "Epoch 31/50\n",
      "8000/8000 [==============================] - 1s 145us/step - loss: 0.4020 - acc: 0.8350\n",
      "Epoch 32/50\n",
      "8000/8000 [==============================] - 2s 193us/step - loss: 0.4027 - acc: 0.8339\n",
      "Epoch 33/50\n",
      "8000/8000 [==============================] - 1s 179us/step - loss: 0.4029 - acc: 0.8337\n",
      "Epoch 34/50\n",
      "8000/8000 [==============================] - 3s 371us/step - loss: 0.4030 - acc: 0.8330\n",
      "Epoch 35/50\n",
      "8000/8000 [==============================] - 2s 305us/step - loss: 0.4022 - acc: 0.8347\n",
      "Epoch 36/50\n",
      "8000/8000 [==============================] - 2s 262us/step - loss: 0.4024 - acc: 0.8340\n",
      "Epoch 37/50\n",
      "8000/8000 [==============================] - 2s 248us/step - loss: 0.4027 - acc: 0.8344\n",
      "Epoch 38/50\n",
      "8000/8000 [==============================] - 3s 352us/step - loss: 0.4027 - acc: 0.8347\n",
      "Epoch 39/50\n",
      "8000/8000 [==============================] - 2s 302us/step - loss: 0.4028 - acc: 0.8340\n",
      "Epoch 40/50\n",
      "8000/8000 [==============================] - 2s 192us/step - loss: 0.4027 - acc: 0.8354\n",
      "Epoch 41/50\n",
      "8000/8000 [==============================] - 1s 176us/step - loss: 0.4020 - acc: 0.8341\n",
      "Epoch 42/50\n",
      "8000/8000 [==============================] - 1s 151us/step - loss: 0.4021 - acc: 0.8346\n",
      "Epoch 43/50\n",
      "8000/8000 [==============================] - 2s 256us/step - loss: 0.4015 - acc: 0.8345\n",
      "Epoch 44/50\n",
      "8000/8000 [==============================] - 2s 312us/step - loss: 0.4024 - acc: 0.8325\n",
      "Epoch 45/50\n",
      "8000/8000 [==============================] - 2s 211us/step - loss: 0.4025 - acc: 0.8332\n",
      "Epoch 46/50\n",
      "8000/8000 [==============================] - 2s 239us/step - loss: 0.4019 - acc: 0.8351\n",
      "Epoch 47/50\n",
      "8000/8000 [==============================] - 1s 179us/step - loss: 0.4020 - acc: 0.8341\n",
      "Epoch 48/50\n",
      "8000/8000 [==============================] - 2s 268us/step - loss: 0.4026 - acc: 0.8347\n",
      "Epoch 49/50\n",
      "8000/8000 [==============================] - 2s 266us/step - loss: 0.4022 - acc: 0.8344\n",
      "Epoch 50/50\n",
      "8000/8000 [==============================] - 1s 182us/step - loss: 0.4018 - acc: 0.8340\n"
     ]
    },
    {
     "data": {
      "text/plain": [
       "<keras.callbacks.History at 0x7f555a979c88>"
      ]
     },
     "execution_count": 10,
     "metadata": {},
     "output_type": "execute_result"
    }
   ],
   "source": [
    "# Let's train, 'No Pain. No Gain' they said.\n",
    "classifier.fit(X_train, y_train, batch_size = 10, epochs = 50)"
   ]
  },
  {
   "cell_type": "markdown",
   "metadata": {},
   "source": [
    "## Just doing some tests, keep scrolling!"
   ]
  },
  {
   "cell_type": "code",
   "execution_count": 12,
   "metadata": {},
   "outputs": [],
   "source": [
    "y_pred = classifier.predict(X_test)\n",
    "y_pred = (y_pred > 0.5)"
   ]
  },
  {
   "cell_type": "code",
   "execution_count": 14,
   "metadata": {},
   "outputs": [
    {
     "name": "stdout",
     "output_type": "stream",
     "text": [
      "[[False]\n",
      " [False]\n",
      " [False]\n",
      " ...\n",
      " [False]\n",
      " [False]\n",
      " [False]]\n"
     ]
    }
   ],
   "source": [
    "print(y_pred)"
   ]
  },
  {
   "cell_type": "markdown",
   "metadata": {},
   "source": [
    "## Got confused?"
   ]
  },
  {
   "cell_type": "code",
   "execution_count": 15,
   "metadata": {},
   "outputs": [
    {
     "name": "stdout",
     "output_type": "stream",
     "text": [
      "[[1559   36]\n",
      " [ 282  123]]\n"
     ]
    }
   ],
   "source": [
    "from sklearn.metrics import confusion_matrix\n",
    "cm = confusion_matrix(y_test, y_pred)\n",
    "print(cm) # Thats all folks"
   ]
  }
 ],
 "metadata": {
  "kernelspec": {
   "display_name": "Python 3",
   "language": "python",
   "name": "python3"
  },
  "language_info": {
   "codemirror_mode": {
    "name": "ipython",
    "version": 3
   },
   "file_extension": ".py",
   "mimetype": "text/x-python",
   "name": "python",
   "nbconvert_exporter": "python",
   "pygments_lexer": "ipython3",
   "version": "3.6.8"
  }
 },
 "nbformat": 4,
 "nbformat_minor": 2
}
