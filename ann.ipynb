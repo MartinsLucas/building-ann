{
 "cells": [
  {
   "cell_type": "markdown",
   "metadata": {},
   "source": [
    "# Artificial Neural Network"
   ]
  },
  {
   "cell_type": "markdown",
   "metadata": {},
   "source": [
    "## Import libraries"
   ]
  },
  {
   "cell_type": "code",
   "execution_count": 1,
   "metadata": {},
   "outputs": [],
   "source": [
    "import numpy as np\n",
    "import matplotlib.pyplot as plt\n",
    "import pandas as pd"
   ]
  },
  {
   "cell_type": "markdown",
   "metadata": {},
   "source": [
    "## Importing Dataset"
   ]
  },
  {
   "cell_type": "code",
   "execution_count": 2,
   "metadata": {},
   "outputs": [],
   "source": [
    "dataset = pd.read_csv('Churn_Modelling.csv')\n",
    "X = dataset.iloc[:, 3:13].values # Get all lines from column 3 to 12 (column 13 is not included!) - Indepedent Variable\n",
    "y = dataset.iloc[:, 13].values # Get all lines from column 13 - The depedent variable"
   ]
  },
  {
   "cell_type": "markdown",
   "metadata": {},
   "source": [
    "## Encoding categorical Data"
   ]
  },
  {
   "cell_type": "code",
   "execution_count": 4,
   "metadata": {},
   "outputs": [
    {
     "name": "stderr",
     "output_type": "stream",
     "text": [
      "/home/guilherme/.conda/envs/deeplearning/lib/python3.6/site-packages/sklearn/preprocessing/_encoders.py:371: FutureWarning: The handling of integer data will change in version 0.22. Currently, the categories are determined based on the range [0, max(values)], while in the future they will be determined based on the unique values.\n",
      "If you want the future behaviour and silence this warning, you can specify \"categories='auto'\".\n",
      "In case you used a LabelEncoder before this OneHotEncoder to convert the categories to integers, then you can now use the OneHotEncoder directly.\n",
      "  warnings.warn(msg, FutureWarning)\n",
      "/home/guilherme/.conda/envs/deeplearning/lib/python3.6/site-packages/sklearn/preprocessing/_encoders.py:392: DeprecationWarning: The 'categorical_features' keyword is deprecated in version 0.20 and will be removed in 0.22. You can use the ColumnTransformer instead.\n",
      "  \"use the ColumnTransformer instead.\", DeprecationWarning)\n"
     ]
    }
   ],
   "source": [
    "# Transform categorical data into numerical values\n",
    "from sklearn.preprocessing import LabelEncoder, OneHotEncoder # Import encoders\n",
    "labelencoder_X_1 = LabelEncoder()\n",
    "X[:, 1] = labelencoder_X_1.fit_transform(X[:, 1]) # Encode first categorical column\n",
    "labelencoder_X_2 = LabelEncoder()\n",
    "X[:, 2] = labelencoder_X_2.fit_transform(X[:, 2]) # Encode second categorical column\n",
    "onehotencoder = OneHotEncoder(categorical_features = [1]) # Merge categorical columns to generate one column with the correlated values\n",
    "X = onehotencoder.fit_transform(X).toarray()\n",
    "X = X[:, 1:]"
   ]
  },
  {
   "cell_type": "markdown",
   "metadata": {},
   "source": [
    "## Split dataset"
   ]
  },
  {
   "cell_type": "code",
   "execution_count": 6,
   "metadata": {},
   "outputs": [],
   "source": [
    "from sklearn.model_selection import train_test_split\n",
    "X_train, X_test, y_train, y_test = train_test_split(X, y, test_size = 0.2, random_state = 0) # Split dataset into training data and test data"
   ]
  },
  {
   "cell_type": "markdown",
   "metadata": {},
   "source": [
    "## Feature scaling"
   ]
  },
  {
   "cell_type": "code",
   "execution_count": 7,
   "metadata": {},
   "outputs": [],
   "source": [
    "from sklearn.preprocessing import StandardScaler\n",
    "sc = StandardScaler()\n",
    "X_train = sc.fit_transform(X_train) # Transform all features to the same scale\n",
    "X_test = sc.transform(X_test) # Same here!"
   ]
  },
  {
   "cell_type": "markdown",
   "metadata": {},
   "source": [
    "# Making the Neural Network"
   ]
  },
  {
   "cell_type": "markdown",
   "metadata": {},
   "source": [
    "## Import keras"
   ]
  },
  {
   "cell_type": "code",
   "execution_count": 8,
   "metadata": {},
   "outputs": [
    {
     "name": "stderr",
     "output_type": "stream",
     "text": [
      "Using TensorFlow backend.\n"
     ]
    }
   ],
   "source": [
    "import keras\n",
    "from keras.models import Sequential\n",
    "from keras.layers import Dense"
   ]
  },
  {
   "cell_type": "markdown",
   "metadata": {},
   "source": [
    "## Gonna add some layers baby!"
   ]
  },
  {
   "cell_type": "code",
   "execution_count": 9,
   "metadata": {},
   "outputs": [],
   "source": [
    "classifier = Sequential()\n",
    "#### Adding layers ####\n",
    "classifier.add(Dense(units = 6, kernel_initializer = 'uniform', activation = 'relu', input_dim = 11)) # Input layer\n",
    "classifier.add(Dense(units = 6, kernel_initializer = 'uniform', activation = 'relu')) # Hidden layer, say hi!\n",
    "classifier.add(Dense(units = 12, kernel_initializer = 'uniform', activation = 'relu')) # Hidden layer, say hi!\n",
    "classifier.add(Dense(units = 3, kernel_initializer = 'uniform', activation = 'relu')) # Hidden layer, say hi!\n",
    "classifier.add(Dense(units = 1, kernel_initializer = 'uniform', activation = 'sigmoid')) # Our output layer, she is so pretty"
   ]
  },
  {
   "cell_type": "code",
   "execution_count": 10,
   "metadata": {},
   "outputs": [],
   "source": [
    "classifier.compile(optimizer = 'adam', loss = 'binary_crossentropy', metrics = ['accuracy']) # Compiling our damn good network"
   ]
  },
  {
   "cell_type": "markdown",
   "metadata": {},
   "source": [
    "## No Pain. No Gain. Right?"
   ]
  },
  {
   "cell_type": "code",
   "execution_count": null,
   "metadata": {},
   "outputs": [
    {
     "name": "stdout",
     "output_type": "stream",
     "text": [
      "Epoch 1/50\n",
      "8000/8000 [==============================] - 4s 483us/step - loss: 0.6142 - acc: 0.7960\n",
      "Epoch 2/50\n",
      "8000/8000 [==============================] - 2s 245us/step - loss: 0.5342 - acc: 0.7960\n",
      "Epoch 3/50\n",
      "8000/8000 [==============================] - 2s 261us/step - loss: 0.5117 - acc: 0.7960\n",
      "Epoch 4/50\n",
      "8000/8000 [==============================] - 2s 265us/step - loss: 0.5069 - acc: 0.7960\n",
      "Epoch 5/50\n",
      "8000/8000 [==============================] - 2s 261us/step - loss: 0.5061 - acc: 0.7960\n",
      "Epoch 6/50\n",
      "8000/8000 [==============================] - 2s 267us/step - loss: 0.5060 - acc: 0.7960\n",
      "Epoch 7/50\n",
      "8000/8000 [==============================] - 2s 264us/step - loss: 0.5060 - acc: 0.7960\n",
      "Epoch 8/50\n",
      "8000/8000 [==============================] - 2s 250us/step - loss: 0.5060 - acc: 0.7960\n",
      "Epoch 9/50\n",
      "8000/8000 [==============================] - 2s 258us/step - loss: 0.5059 - acc: 0.7960\n",
      "Epoch 10/50\n",
      "8000/8000 [==============================] - 2s 259us/step - loss: 0.5060 - acc: 0.7960\n",
      "Epoch 11/50\n",
      "8000/8000 [==============================] - 2s 268us/step - loss: 0.5060 - acc: 0.7960\n",
      "Epoch 12/50\n",
      "8000/8000 [==============================] - 2s 233us/step - loss: 0.5060 - acc: 0.7960\n",
      "Epoch 13/50\n",
      "8000/8000 [==============================] - 2s 298us/step - loss: 0.5060 - acc: 0.7960\n",
      "Epoch 14/50\n",
      "8000/8000 [==============================] - 2s 267us/step - loss: 0.5059 - acc: 0.7960\n",
      "Epoch 15/50\n",
      "8000/8000 [==============================] - 2s 292us/step - loss: 0.5060 - acc: 0.7960\n",
      "Epoch 16/50\n",
      "8000/8000 [==============================] - 2s 277us/step - loss: 0.5060 - acc: 0.7960\n",
      "Epoch 17/50\n",
      "8000/8000 [==============================] - 2s 280us/step - loss: 0.5059 - acc: 0.7960\n",
      "Epoch 18/50\n",
      "8000/8000 [==============================] - 2s 259us/step - loss: 0.5059 - acc: 0.7960\n",
      "Epoch 19/50\n",
      "8000/8000 [==============================] - 2s 254us/step - loss: 0.5060 - acc: 0.7960\n",
      "Epoch 20/50\n",
      "8000/8000 [==============================] - 2s 256us/step - loss: 0.5060 - acc: 0.7960\n",
      "Epoch 21/50\n",
      "8000/8000 [==============================] - 2s 259us/step - loss: 0.5059 - acc: 0.7960\n",
      "Epoch 22/50\n",
      "8000/8000 [==============================] - 2s 280us/step - loss: 0.5060 - acc: 0.7960\n",
      "Epoch 23/50\n",
      "8000/8000 [==============================] - 2s 242us/step - loss: 0.5059 - acc: 0.7960\n",
      "Epoch 24/50\n",
      "8000/8000 [==============================] - 2s 255us/step - loss: 0.5059 - acc: 0.7960\n",
      "Epoch 25/50\n",
      "8000/8000 [==============================] - 2s 247us/step - loss: 0.5060 - acc: 0.7960\n",
      "Epoch 26/50\n",
      "8000/8000 [==============================] - 2s 262us/step - loss: 0.5059 - acc: 0.7960\n",
      "Epoch 27/50\n",
      "8000/8000 [==============================] - 2s 258us/step - loss: 0.5060 - acc: 0.7960\n",
      "Epoch 28/50\n",
      "8000/8000 [==============================] - 2s 255us/step - loss: 0.5060 - acc: 0.7960\n",
      "Epoch 29/50\n",
      "8000/8000 [==============================] - 2s 269us/step - loss: 0.5060 - acc: 0.7960\n",
      "Epoch 30/50\n",
      "8000/8000 [==============================] - 2s 258us/step - loss: 0.5060 - acc: 0.7960\n",
      "Epoch 31/50\n",
      "8000/8000 [==============================] - 2s 274us/step - loss: 0.5059 - acc: 0.7960\n",
      "Epoch 32/50\n",
      "8000/8000 [==============================] - 2s 258us/step - loss: 0.5059 - acc: 0.7960\n",
      "Epoch 33/50\n",
      "3620/8000 [============>.................] - ETA: 1s - loss: 0.5167 - acc: 0.7881"
     ]
    }
   ],
   "source": [
    "# Let's train, 'No Pain. No Gain' they said.\n",
    "classifier.fit(X_train, y_train, batch_size = 10, epochs = 50)"
   ]
  },
  {
   "cell_type": "markdown",
   "metadata": {},
   "source": [
    "## Just doing some tests, keep scrolling!"
   ]
  },
  {
   "cell_type": "code",
   "execution_count": 3,
   "metadata": {},
   "outputs": [
    {
     "ename": "NameError",
     "evalue": "name 'classifier' is not defined",
     "output_type": "error",
     "traceback": [
      "\u001b[0;31m---------------------------------------------------------------------------\u001b[0m",
      "\u001b[0;31mNameError\u001b[0m                                 Traceback (most recent call last)",
      "\u001b[0;32m<ipython-input-3-88c8a27aa2bd>\u001b[0m in \u001b[0;36m<module>\u001b[0;34m\u001b[0m\n\u001b[0;32m----> 1\u001b[0;31m \u001b[0my_pred\u001b[0m \u001b[0;34m=\u001b[0m \u001b[0mclassifier\u001b[0m\u001b[0;34m.\u001b[0m\u001b[0mpredict\u001b[0m\u001b[0;34m(\u001b[0m\u001b[0mX_test\u001b[0m\u001b[0;34m)\u001b[0m\u001b[0;34m\u001b[0m\u001b[0;34m\u001b[0m\u001b[0m\n\u001b[0m\u001b[1;32m      2\u001b[0m \u001b[0my_pred\u001b[0m \u001b[0;34m=\u001b[0m \u001b[0;34m(\u001b[0m\u001b[0my_pred\u001b[0m \u001b[0;34m>\u001b[0m \u001b[0;36m0.5\u001b[0m\u001b[0;34m)\u001b[0m\u001b[0;34m\u001b[0m\u001b[0;34m\u001b[0m\u001b[0m\n",
      "\u001b[0;31mNameError\u001b[0m: name 'classifier' is not defined"
     ]
    }
   ],
   "source": [
    "y_pred = classifier.predict(X_test)\n",
    "y_pred = (y_pred > 0.5)"
   ]
  },
  {
   "cell_type": "markdown",
   "metadata": {},
   "source": [
    "## Got confused?"
   ]
  },
  {
   "cell_type": "code",
   "execution_count": 35,
   "metadata": {},
   "outputs": [
    {
     "name": "stdout",
     "output_type": "stream",
     "text": [
      "[[1557   38]\n",
      " [ 280  125]]\n"
     ]
    }
   ],
   "source": [
    "from sklearn.metrics import confusion_matrix\n",
    "cm = confusion_matrix(y_test, y_pred)\n",
    "print(cm) # Thats all folks"
   ]
  }
 ],
 "metadata": {
  "kernelspec": {
   "display_name": "Python 3",
   "language": "python",
   "name": "python3"
  },
  "language_info": {
   "codemirror_mode": {
    "name": "ipython",
    "version": 3
   },
   "file_extension": ".py",
   "mimetype": "text/x-python",
   "name": "python",
   "nbconvert_exporter": "python",
   "pygments_lexer": "ipython3",
   "version": "3.6.8"
  }
 },
 "nbformat": 4,
 "nbformat_minor": 2
}
